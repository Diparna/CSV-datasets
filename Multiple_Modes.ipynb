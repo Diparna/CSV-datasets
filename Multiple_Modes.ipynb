{
  "nbformat": 4,
  "nbformat_minor": 0,
  "metadata": {
    "colab": {
      "name": "Multiple Modes.ipynb",
      "version": "0.3.2",
      "provenance": [],
      "collapsed_sections": [],
      "include_colab_link": true
    },
    "kernelspec": {
      "name": "python3",
      "display_name": "Python 3"
    }
  },
  "cells": [
    {
      "cell_type": "markdown",
      "metadata": {
        "id": "view-in-github",
        "colab_type": "text"
      },
      "source": [
        "<a href=\"https://colab.research.google.com/github/andandandand/CSV-datasets/blob/master/Multiple_Modes.ipynb\" target=\"_parent\"><img src=\"https://colab.research.google.com/assets/colab-badge.svg\" alt=\"Open In Colab\"/></a>"
      ]
    },
    {
      "metadata": {
        "id": "honuOybn_V6q",
        "colab_type": "code",
        "colab": {}
      },
      "cell_type": "code",
      "source": [
        "def modes(data):\n",
        "    # Your code here.\n",
        "    \n",
        "    # Create your dictionary to store thing and count here\n",
        "    mode_dict = {}\n",
        "    \n",
        "    # Create a list that will hold each thing to be counted\n",
        "    things = []\n",
        "    \n",
        "    # If data is a string, turn it into a list of things to be counted\n",
        "    if type(data) is str:\n",
        "        things = list(data)\n",
        "        \n",
        "    # If data is a list, determine if it's a list of int or a list of str    \n",
        "    elif type(data) is list:\n",
        "    \n",
        "        # If list of str, grab the first str in the list, and turn it into a list of things\n",
        "        if type(data[0]) is str:\n",
        "            things = list(data[0])\n",
        "    \n",
        "        # Else, it's a list of integers, so leave it alone and set data equal to things\n",
        "        else:\n",
        "            things = data\n",
        "    \n",
        "    # So now lets count how many times thing appears in things\n",
        "    for thing in things:\n",
        "        counter = things.count(thing)\n",
        "        \n",
        "        # And save that in the dictionary\n",
        "        mode_dict[thing] = counter\n",
        "        \n",
        "    # Now let's find the highest and lowest count in the dictionary\n",
        "    maximum_count = max(mode_dict.values())\n",
        "    minimum_count = min(mode_dict.values())\n",
        "       \n",
        "    # If there is a thing with higher count than other things, list it out\n",
        "    if maximum_count > minimum_count:\n",
        "    \n",
        "        # I had to google how to output all keys with same value\n",
        "        # Have to sort the result as well\n",
        "        return sorted([k for k,v in mode_dict.items() if v == maximum_count])\n",
        "    \n",
        "    # If there isn't a thing with a higher count, or highest count is equal to lowest count\n",
        "    # Return []\n",
        "    else:\n",
        "        return []"
      ],
      "execution_count": 0,
      "outputs": []
    }
  ]
}